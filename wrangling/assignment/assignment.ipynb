{
  "cells": [
    {
      "cell_type": "markdown",
      "id": "13ad028b-72b7-43ed-aa78-96fd4e518040",
      "metadata": {
        "id": "13ad028b-72b7-43ed-aa78-96fd4e518040"
      },
      "source": [
        "# Assignment: Data Wrangling"
      ]
    },
    {
      "cell_type": "markdown",
      "id": "5735a4d4-8be8-433a-a351-70eb8002e632",
      "metadata": {
        "id": "5735a4d4-8be8-433a-a351-70eb8002e632"
      },
      "source": [
        "**Q1.** Open the \"tidy_data.pdf\" document in the repo, which is a paper called Tidy Data by Hadley Wickham.\n",
        "\n",
        "  1. Read the abstract. What is this paper about?\n",
        "\n",
        "  To make cleaning data easier and more effective, the idea of data tidying is introduced. The paper claims that tidy dataset are easy produce and work with. The paper also claims that the framework makes it easier to developtidy tools for data analysis.\n",
        "\n",
        "  2. Read the introduction. What is the \"tidy data standard\" intended to accomplish?\n",
        "\n",
        "  The tidy data standarda attempts to reduce the time spent cleaning data, while also making the data cleaning process easier.\n",
        "\n",
        "  3. Read the intro to section 2. What does this sentence mean: \"Like families, tidy datasets are all alike but every messy dataset is messy in its own way.\" What does this sentence mean: \"For a given dataset, it’s usually easy to figure out what are observations and what are variables, but it is surprisingly difficult to precisely define variables and observations in general.\"\n",
        "\n",
        "  The first sentence means that the structure of tidy data is common across all dataset, but messy datasets can be messy in many ways. So, there cannot be just one ste of instructions that will clean all datasets. The second sentences means that the semantics of variables and observations can be derived from all different datasets through human analysis, but the variety of the structure of these datasets means that there is no one was to derive variables and observations from any given dataset.\n",
        "\n",
        "  4. Read Section 2.2. How does Wickham define values, variables, and observations?\n",
        "\n",
        "  Values make up the dataset and are either numbers or strings. Variables contain all values that measure the same underlying attribute. Observations contain all values measured on the same unit across attributes.\n",
        "\n",
        "  5. How is \"Tidy Data\" defined in section 2.3?\n",
        "\n",
        "  Tidy data is defined by each variable forming a column, each observation forms a row, and each type of observational unit forms a table.\n",
        "\n",
        "  6. Read the intro to Section 3 and Section 3.1. What are the 5 most common problems with messy datasets? Why are the data in Table 4 messy? What is \"melting\" a dataset?\n",
        "\n",
        "  The five most common probleams with messy datasets are:\n",
        "  - Column headers are values, not variable names.\n",
        "  - Multiple variables are stored in one column.\n",
        "  - Variables are stored in both rows and columns.\n",
        "  - Multiple types of observational units are stored in the same table.\n",
        "  - A single observational unit is stored in multiple tables.\n",
        "\n",
        "  The data in Table 4 is messy because the columns are already variables. It needs to be melted, which means to turn the columns into rows.\n",
        "\n",
        "  7. Why, specifically, is table 11 messy but table 12 tidy and \"molten\"?\n",
        "\n",
        "  Table 11 is messy because it has values as column headers instead of variables. Table 12(a) fixes this my melting all of the days into a single variable called date. Then, to make this tidy, all entries must be attributes and not variable names. So, tmax and tmin become the variables instead of element and value.  \n",
        "\n",
        "  8. Read Section 6. What is the \"chicken-and-egg\" problem with focusing on tidy data? What does Wickham hope happens in the future with further work on the subject of data wrangling?\n",
        "\n",
        "  The usefulness of tidy data is strictly tied to the tools that it can be used with, and vice-versa. Wickham hopes that other disipline will get involved in the improvement of tidy structures and tools to make the process of cleaning data and other tasks easier."
      ]
    },
    {
      "cell_type": "markdown",
      "id": "da879ea7-8aac-48a3-b6c2-daea56d2e072",
      "metadata": {
        "id": "da879ea7-8aac-48a3-b6c2-daea56d2e072"
      },
      "source": [
        "**Q2.** This question provides some practice cleaning variables which have common problems.\n",
        "1. Numeric variable: For `./data/airbnb_hw.csv`, clean the `Price` variable as well as you can, and explain the choices you make. How many missing values do you end up with? (Hint: What happens to the formatting when a price goes over 999 dollars, say from 675 to 1,112?)\n",
        "2. Categorical variable: For the `./data/sharks.csv` data covered in the lecture, clean the \"Type\" variable as well as you can, and explain the choices you make.\n",
        "3. Dummy variable: For the pretrial data covered in the lecture, clean the `WhetherDefendantWasReleasedPretrial` variable as well as you can, and, in particular, replace missing values with `np.nan`.\n",
        "4. Missing values, not at random: For the pretrial data covered in the lecture, clean the `ImposedSentenceAllChargeInContactEvent` variable as well as you can, and explain the choices you make. (Hint: Look at the `SentenceTypeAllChargesAtConvictionInContactEvent` variable.)"
      ]
    },
    {
      "cell_type": "code",
      "source": [
        "import pandas as pd\n",
        "! git clone https://github.com/lyurish00/DS3001"
      ],
      "metadata": {
        "colab": {
          "base_uri": "https://localhost:8080/"
        },
        "id": "m3h4JZ5NI1kl",
        "outputId": "f008c104-4c83-4f32-e913-71f7d1dfedcd"
      },
      "id": "m3h4JZ5NI1kl",
      "execution_count": 1,
      "outputs": [
        {
          "output_type": "stream",
          "name": "stdout",
          "text": [
            "Cloning into 'DS3001'...\n",
            "remote: Enumerating objects: 111, done.\u001b[K\n",
            "remote: Counting objects: 100% (111/111), done.\u001b[K\n",
            "remote: Compressing objects: 100% (100/100), done.\u001b[K\n",
            "remote: Total 111 (delta 35), reused 0 (delta 0), pack-reused 0\u001b[K\n",
            "Receiving objects: 100% (111/111), 2.60 MiB | 7.32 MiB/s, done.\n",
            "Resolving deltas: 100% (35/35), done.\n"
          ]
        }
      ]
    },
    {
      "cell_type": "code",
      "source": [
        "import numpy as np"
      ],
      "metadata": {
        "id": "_7sN6bAiTHgl"
      },
      "id": "_7sN6bAiTHgl",
      "execution_count": 2,
      "outputs": []
    },
    {
      "cell_type": "code",
      "source": [
        "df = pd.read_csv('/content/DS3001/wrangling/assignment/data/airbnb_hw.csv')"
      ],
      "metadata": {
        "id": "dlOo_gB_Kino"
      },
      "id": "dlOo_gB_Kino",
      "execution_count": 3,
      "outputs": []
    },
    {
      "cell_type": "markdown",
      "source": [
        "For step 1, I decided to remove the ',' in all of the values and then convert to a numeric type. This allows me to do calculations on the Price variable. Doing this gives no missing values."
      ],
      "metadata": {
        "id": "gwYnEFg2Mhvk"
      },
      "id": "gwYnEFg2Mhvk"
    },
    {
      "cell_type": "code",
      "source": [
        "df['Price'] = df['Price'].str.replace(',', '')"
      ],
      "metadata": {
        "id": "KTYkSF85LuC9"
      },
      "id": "KTYkSF85LuC9",
      "execution_count": 4,
      "outputs": []
    },
    {
      "cell_type": "code",
      "source": [
        "df['Price'] = pd.to_numeric(df['Price'])"
      ],
      "metadata": {
        "id": "xfpDWqi-MGTT"
      },
      "id": "xfpDWqi-MGTT",
      "execution_count": 5,
      "outputs": []
    },
    {
      "cell_type": "code",
      "source": [
        "sum(df['Price'].isnull())"
      ],
      "metadata": {
        "colab": {
          "base_uri": "https://localhost:8080/"
        },
        "id": "BNoIwZw9M0pi",
        "outputId": "b94dc6bc-5e0d-4531-bf23-2786f98bba19"
      },
      "id": "BNoIwZw9M0pi",
      "execution_count": 6,
      "outputs": [
        {
          "output_type": "execute_result",
          "data": {
            "text/plain": [
              "0"
            ]
          },
          "metadata": {},
          "execution_count": 6
        }
      ]
    },
    {
      "cell_type": "markdown",
      "source": [
        "For step 2, I chose to keep 'Unprovoked' and 'Provoked' and then add 'Watercraft' and 'Unknown/Unsure'. 'Watercraft' combines 'Sea Disaster', 'Boat', 'Boating', and 'Boatomg' as they are all related to watercrafts. There are also a bunch of other types that are incomplete so I decided to put them all under the type 'Unknown/Unsure', which includes the types 'Invalid', 'Questionable', 'Unconfirmed', 'Unverified', and 'Under investigation'."
      ],
      "metadata": {
        "id": "cAk9rCJaNKle"
      },
      "id": "cAk9rCJaNKle"
    },
    {
      "cell_type": "code",
      "source": [
        "sdf = pd.read_csv('/content/DS3001/wrangling/data/sharks.csv', low_memory=False)"
      ],
      "metadata": {
        "id": "X_348lhTNNpi"
      },
      "id": "X_348lhTNNpi",
      "execution_count": 7,
      "outputs": []
    },
    {
      "cell_type": "code",
      "source": [
        "sdf['Type'].value_counts()"
      ],
      "metadata": {
        "colab": {
          "base_uri": "https://localhost:8080/"
        },
        "id": "wVedWNVjNqQo",
        "outputId": "7b8d2d1b-acfe-4555-c721-f2ce3d5afe64"
      },
      "id": "wVedWNVjNqQo",
      "execution_count": 8,
      "outputs": [
        {
          "output_type": "execute_result",
          "data": {
            "text/plain": [
              "Unprovoked             4716\n",
              "Provoked                593\n",
              "Invalid                 552\n",
              "Sea Disaster            239\n",
              "Watercraft              142\n",
              "Boat                    109\n",
              "Boating                  92\n",
              "Questionable             10\n",
              "Unconfirmed               1\n",
              "Unverified                1\n",
              "Under investigation       1\n",
              "Boatomg                   1\n",
              "Name: Type, dtype: int64"
            ]
          },
          "metadata": {},
          "execution_count": 8
        }
      ]
    },
    {
      "cell_type": "code",
      "source": [
        "sdf['Type'] = sdf['Type'].replace(['Sea Disaster', 'Boat', 'Boating', 'Boatomg'], 'Watercraft')\n",
        "sdf['Type'] = sdf['Type'].replace(['Invalid', 'Questionable', 'Unconfirmed', 'Unverified', 'Under investigation'], 'Unknown/Unsure')\n",
        "sdf['Type'].value_counts()"
      ],
      "metadata": {
        "colab": {
          "base_uri": "https://localhost:8080/"
        },
        "id": "zk6Zx5PROLu7",
        "outputId": "aa6d0e17-9016-4ada-ad2c-c608a0dc91ee"
      },
      "id": "zk6Zx5PROLu7",
      "execution_count": 9,
      "outputs": [
        {
          "output_type": "execute_result",
          "data": {
            "text/plain": [
              "Unprovoked        4716\n",
              "Provoked           593\n",
              "Watercraft         583\n",
              "Unknown/Unsure     565\n",
              "Name: Type, dtype: int64"
            ]
          },
          "metadata": {},
          "execution_count": 9
        }
      ]
    },
    {
      "cell_type": "markdown",
      "source": [
        "For step 3, the original data for the selected variable are 0s, 1s, or 9s. The code book says 0 means not released, 1 means released, and 9 is unclear. So, to clean this data I decided to replace all 9s with np.nan.  "
      ],
      "metadata": {
        "id": "L1iJW3drQZ6V"
      },
      "id": "L1iJW3drQZ6V"
    },
    {
      "cell_type": "code",
      "source": [
        "url = 'http://www.vcsc.virginia.gov/pretrialdataproject/October%202017%20Cohort_Virginia%20Pretrial%20Data%20Project_Deidentified%20FINAL%20Update_10272021.csv'\n",
        "df = pd.read_csv(url,low_memory=False)"
      ],
      "metadata": {
        "id": "1YWGStWBQbaJ"
      },
      "id": "1YWGStWBQbaJ",
      "execution_count": 10,
      "outputs": []
    },
    {
      "cell_type": "code",
      "source": [
        "df['WhetherDefendantWasReleasedPretrial'] = df['WhetherDefendantWasReleasedPretrial'].replace(9,np.nan)"
      ],
      "metadata": {
        "id": "-ZvGJ9wESDiN"
      },
      "id": "-ZvGJ9wESDiN",
      "execution_count": 11,
      "outputs": []
    },
    {
      "cell_type": "code",
      "source": [
        "df['WhetherDefendantWasReleasedPretrial'].value_counts()"
      ],
      "metadata": {
        "colab": {
          "base_uri": "https://localhost:8080/"
        },
        "id": "RSWIx386RQWU",
        "outputId": "1cd56afe-cb43-440e-fd38-520aaaac1b3b"
      },
      "id": "RSWIx386RQWU",
      "execution_count": 12,
      "outputs": [
        {
          "output_type": "execute_result",
          "data": {
            "text/plain": [
              "1.0    19154\n",
              "0.0     3801\n",
              "Name: WhetherDefendantWasReleasedPretrial, dtype: int64"
            ]
          },
          "metadata": {},
          "execution_count": 12
        }
      ]
    },
    {
      "cell_type": "markdown",
      "source": [
        "For step 4, I first converted ImposedSentenceAllChargeInContactEvent to numeric. Then, I converted cases that were dismissed to a False because logicially no sentence was imposed. After analyzing the relationship between ImposedSentenceAllChargeInContactEvent and SentenceTypeAllChargesAtConvictionInContactEvent, I decided to create a dummy variable where the remaining 9 or NaN are true and the remaining valid data are false."
      ],
      "metadata": {
        "id": "4Bht1aaqUFMF"
      },
      "id": "4Bht1aaqUFMF"
    },
    {
      "cell_type": "code",
      "source": [
        "df['ImposedSentenceAllChargeInContactEvent'].value_counts()"
      ],
      "metadata": {
        "colab": {
          "base_uri": "https://localhost:8080/"
        },
        "id": "vC9EqJfqUIXG",
        "outputId": "86c33399-16c6-48fd-e9c3-0fad0db415a6"
      },
      "id": "vC9EqJfqUIXG",
      "execution_count": 13,
      "outputs": [
        {
          "output_type": "execute_result",
          "data": {
            "text/plain": [
              "                    9053\n",
              "0                   4953\n",
              "12                  1404\n",
              ".985626283367556    1051\n",
              "6                    809\n",
              "                    ... \n",
              "49.9712525667351       1\n",
              "57.0349075975359       1\n",
              "79.9260780287474       1\n",
              "42.1642710472279       1\n",
              "1.6570841889117        1\n",
              "Name: ImposedSentenceAllChargeInContactEvent, Length: 484, dtype: int64"
            ]
          },
          "metadata": {},
          "execution_count": 13
        }
      ]
    },
    {
      "cell_type": "code",
      "source": [
        "df['ImposedSentenceAllChargeInContactEvent'] = pd.to_numeric(df['ImposedSentenceAllChargeInContactEvent'],errors='coerce')\n",
        "\n",
        "df['ImposedSentenceAllChargeInContactEvent'] = df['ImposedSentenceAllChargeInContactEvent'].mask(df['SentenceTypeAllChargesAtConvictionInContactEvent'] == 4, 0) # 4 is cases were dismissed\n",
        "df['ImposedSentenceAllChargeInContactEvent'] = df['ImposedSentenceAllChargeInContactEvent'].mask(df['SentenceTypeAllChargesAtConvictionInContactEvent'] == 9, np.nan)\n",
        "\n",
        "length_nan = df['ImposedSentenceAllChargeInContactEvent'].isnull() # missing dummy\n",
        "print(pd.crosstab(length_nan, df['SentenceTypeAllChargesAtConvictionInContactEvent']), '\\n')\n",
        "print(np.sum(length_nan),'\\n') #count of missing values"
      ],
      "metadata": {
        "colab": {
          "base_uri": "https://localhost:8080/"
        },
        "id": "Xo4X-7J2WCv3",
        "outputId": "2b213319-3132-44b2-e440-e8dfb70d5063"
      },
      "id": "Xo4X-7J2WCv3",
      "execution_count": 14,
      "outputs": [
        {
          "output_type": "stream",
          "name": "stdout",
          "text": [
            "SentenceTypeAllChargesAtConvictionInContactEvent     0     1    2     4    9\n",
            "ImposedSentenceAllChargeInContactEvent                                      \n",
            "False                                             8720  4299  914  8779    0\n",
            "True                                                 0     0    0     0  274 \n",
            "\n",
            "274 \n",
            "\n"
          ]
        }
      ]
    },
    {
      "cell_type": "markdown",
      "id": "649494cd-cfd6-4f80-992a-9994fc19e1d5",
      "metadata": {
        "id": "649494cd-cfd6-4f80-992a-9994fc19e1d5"
      },
      "source": [
        "**Q3.** Many important datasets contain a race variable, typically limited to a handful of values often including Black, White, Asian, Latino, and Indigenous. This question looks at data gathering efforts on this variable by the U.S. Federal government.\n",
        "\n",
        "1. How did the most recent US Census gather data on sex, gender, sexuality, and race?\n",
        "\n",
        "Data on sex, gender, sexuality, and race were gathered by self-identification on the survey sent out by the Census Bureau.\n",
        "\n",
        "2. Why do we gather these data? What role do these kinds of data play in politics and society? Why does data quality matter?\n",
        "\n",
        "In terms of politics, the true measure of how diverse the US population as well of the distribution of things like wealth is distributed across the US population is important in crafting policy. This data is also important for awareness and tolerance of the communities that make up our population. Data quality is incredibly important for a huge task like this, its influence is very wide. So, having improperly collected or non-representative data presented from a government source would have profound effects.\n",
        "\n",
        "3. Please provide a constructive criticism of how the Census was conducted: What was done well? What do you think was missing? How should future large scale surveys be adjusted to best reflect the diversity of the population? Could some of the Census' good practices be adopted more widely to gather richer and more useful data?\n",
        "\n",
        "For this analysis, I found and informational copy of the 2020 census. I think the options to write-in your race is a good feature as it allows for all people to accurately enter their race, while still categorizing into White, Black or African America, American Indian or Alaska Native, and other. I think this meathod could be expanded and used in other data gathering practices. I don't like how they ask for the sex of the respondant, this question is not considerate of intersex and transgender individuals. In the future, if they decide that sex if still an important data point, then also including a option for intersex and also including an optional gender question would allow for the responses to better reflect the entire population.\n",
        "\n",
        "4. When it comes to cleaning data, what concerns do you have about protected characteristics like sex, gender, sexual identity, or race? What challenges can you imagine arising when there are missing values? What good or bad practices might people adopt, and why?\n",
        "\n",
        "My largest concern for cleaning protected characteristics is that important information will get shoved into an inaccurate box. The survey does allow for nuance, but even in its structure, the main \"boxes\" are obvious. There are pros and cons to this approach. It allows for nuance with the option to write in your race, but it does nothing to discourage an analyst from just using the White, Black or Afircan American, American Indian or Alaska Native, and Other options.\n",
        "\n",
        "On top of this, the structure of the survey doesn't clarify or allow for clarification on the amount/percentage an individual is of a given race. This can be a key part of someone's identity that is easily erased with this strudtuve. Also, the cleaning of this data might be more complication if there are missing values. For example, if someone marked a box for their race but didn't write in any specific race, then the analyst would have an issue if the two parts were stored together, or they would have to deliberate if the entire thing is throw out, which is less thn ideal.\n",
        "\n",
        "In general, I appreciate the ability to input specific races or origins and think that this should be applied elsewhere, in hopes that people will be less likely to be placed into broad boxes. I think the structure can be reworked a bit to ensure that someone answers both parts of the race question."
      ]
    }
  ],
  "metadata": {
    "colab": {
      "provenance": []
    },
    "kernelspec": {
      "display_name": "Python 3 (ipykernel)",
      "language": "python",
      "name": "python3"
    },
    "language_info": {
      "codemirror_mode": {
        "name": "ipython",
        "version": 3
      },
      "file_extension": ".py",
      "mimetype": "text/x-python",
      "name": "python",
      "nbconvert_exporter": "python",
      "pygments_lexer": "ipython3",
      "version": "3.10.4"
    }
  },
  "nbformat": 4,
  "nbformat_minor": 5
}